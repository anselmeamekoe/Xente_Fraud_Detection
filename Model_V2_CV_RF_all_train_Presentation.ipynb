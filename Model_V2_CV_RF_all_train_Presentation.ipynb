{
 "cells": [
  {
   "cell_type": "markdown",
   "id": "c398fd23-2c08-4c81-845e-0eb2451512c6",
   "metadata": {},
   "source": [
    "# Grand Hackathon d'IndabaX-Togo 2023: Défi de détection de fraude Xente"
   ]
  },
  {
   "cell_type": "markdown",
   "id": "ec839d39-5835-4639-8607-af06451840cb",
   "metadata": {},
   "source": [
    "## Quelques défis identifiés (French):\n",
    "- Le déséquilibre entre les classees ( seulement 2 sur 1000 trasactions sont fraud)\n",
    "- La distrubtion des données peut evoluer  entre le jeu d'entrainement et de test final "
   ]
  },
  {
   "cell_type": "markdown",
   "id": "54324e9d-949b-4f81-a7ad-1149c4198330",
   "metadata": {},
   "source": [
    "## Packages"
   ]
  },
  {
   "cell_type": "code",
   "execution_count": 6,
   "id": "9759059a-d053-4cfb-9f7f-28690c84c200",
   "metadata": {},
   "outputs": [],
   "source": [
    "import os, sys\n",
    "import numpy as np\n",
    "import pandas as pd \n"
   ]
  },
  {
   "cell_type": "code",
   "execution_count": 7,
   "id": "4f9a1f1f-3b7d-44c5-9898-34a795f7e321",
   "metadata": {},
   "outputs": [],
   "source": [
    "pd.options.display.max_rows = 1000\n",
    "pd.options.display.max_columns = 1000"
   ]
  },
  {
   "cell_type": "code",
   "execution_count": 8,
   "id": "36a64890-3a1c-48fa-b2d4-b1101dd2ad0a",
   "metadata": {},
   "outputs": [],
   "source": [
    "from itertools import chain\n",
    "import matplotlib.pyplot as plt"
   ]
  },
  {
   "cell_type": "code",
   "execution_count": 9,
   "id": "e98e482c-2bb5-4e1b-aae0-54eaa2248ea9",
   "metadata": {},
   "outputs": [],
   "source": [
    "from sklearn.model_selection import train_test_split, KFold, StratifiedKFold\n",
    "from sklearn.metrics import roc_auc_score as AUC\n",
    "from sklearn.metrics import roc_auc_score, average_precision_score,f1_score\n",
    "\n",
    "from sklearn.ensemble import RandomForestClassifier as RF "
   ]
  },
  {
   "cell_type": "code",
   "execution_count": 16,
   "id": "996e2da8-1475-4ee0-95d7-d03b097481b9",
   "metadata": {},
   "outputs": [],
   "source": [
    "from sklearn.preprocessing import LabelEncoder, OneHotEncoder, StandardScaler\n",
    "from sklearn import set_config\n",
    "from sklearn.compose import ColumnTransformer\n",
    "from sklearn.pipeline import make_pipeline\n"
   ]
  },
  {
   "cell_type": "markdown",
   "id": "89fd998f-695e-4116-a9ec-bdf9fbe73c2f",
   "metadata": {},
   "source": [
    "## Data & Processing"
   ]
  },
  {
   "cell_type": "code",
   "execution_count": 10,
   "id": "ac7a5b07-bb11-4a9d-a378-2d6366015f3b",
   "metadata": {},
   "outputs": [],
   "source": [
    "#os.listdir('Datasets')\n",
    "data_path = 'Datasets/'\n",
    "train_data = pd.read_csv(data_path+'training.csv',low_memory=False)\n",
    "test_data = pd.read_csv(data_path+'test.csv',low_memory=False)\n"
   ]
  },
  {
   "cell_type": "code",
   "execution_count": 11,
   "id": "49c5d3ab-443a-4dfd-a2e3-753162e02608",
   "metadata": {
    "tags": []
   },
   "outputs": [
    {
     "name": "stderr",
     "output_type": "stream",
     "text": [
      "/tmp/ipykernel_37478/2370544504.py:15: FutureWarning: Series.dt.weekofyear and Series.dt.week have been deprecated. Please use Series.dt.isocalendar().week instead.\n",
      "  train_data['week'] = train_data['TransactionStartTime'].dt.week\n",
      "/tmp/ipykernel_37478/2370544504.py:24: FutureWarning: Series.dt.weekofyear and Series.dt.week have been deprecated. Please use Series.dt.isocalendar().week instead.\n",
      "  test_data['week'] = test_data['TransactionStartTime'].dt.week\n"
     ]
    }
   ],
   "source": [
    "train_data['TransactionStartTime'] = train_data['TransactionStartTime'].str.replace('T', ' ')\n",
    "train_data['TransactionStartTime'] = train_data['TransactionStartTime'].str.replace('Z', '')\n",
    "test_data['TransactionStartTime'] = test_data['TransactionStartTime'].str.replace('T', ' ')\n",
    "test_data['TransactionStartTime'] = test_data['TransactionStartTime'].str.replace('Z', '')\n",
    "\n",
    "train_data['TransactionStartTime'] = pd.to_datetime(train_data['TransactionStartTime'], infer_datetime_format=True) \n",
    "test_data['TransactionStartTime'] = pd.to_datetime(test_data['TransactionStartTime'], infer_datetime_format=True) \n",
    "\n",
    "train_data['Year'] = train_data['TransactionStartTime'].dt.year\n",
    "train_data['Month'] = train_data['TransactionStartTime'].dt.month\n",
    "train_data['Day'] = train_data['TransactionStartTime'].dt.day\n",
    "train_data['Hour'] = train_data['TransactionStartTime'].dt.hour\n",
    "train_data['Minute'] = train_data['TransactionStartTime'].dt.minute\n",
    "train_data['Seconds'] = train_data['TransactionStartTime'].dt.second\n",
    "train_data['week'] = train_data['TransactionStartTime'].dt.week\n",
    "train_data['weekday'] = train_data['TransactionStartTime'].dt.weekday\n",
    "\n",
    "test_data['Year'] = test_data['TransactionStartTime'].dt.year\n",
    "test_data['Month'] = test_data['TransactionStartTime'].dt.month\n",
    "test_data['Day'] = test_data['TransactionStartTime'].dt.day\n",
    "test_data['Hour'] = test_data['TransactionStartTime'].dt.hour\n",
    "test_data['Minute'] = test_data['TransactionStartTime'].dt.minute\n",
    "test_data['Seconds'] = test_data['TransactionStartTime'].dt.second\n",
    "test_data['week'] = test_data['TransactionStartTime'].dt.week\n",
    "test_data['weekday'] = test_data['TransactionStartTime'].dt.weekday"
   ]
  },
  {
   "cell_type": "code",
   "execution_count": null,
   "id": "8b6b684f-3f5b-4456-b8cf-e1b7a2145239",
   "metadata": {},
   "outputs": [],
   "source": []
  },
  {
   "cell_type": "code",
   "execution_count": 12,
   "id": "9ad9960d-8393-422d-9cbd-eea7d62e51b8",
   "metadata": {},
   "outputs": [],
   "source": [
    "selected_features = ['ProviderId','ProductId','ProductCategory','ChannelId','Amount','Value','PricingStrategy']\n",
    "TransactionId_test = test_data.TransactionId.values\n",
    "train_data = train_data[selected_features+[\"AccountId\"]+[\"FraudResult\"]]\n",
    "test_data = test_data[selected_features]"
   ]
  },
  {
   "cell_type": "code",
   "execution_count": 13,
   "id": "4a82f548-ffb4-4d23-baa7-704eb76c2612",
   "metadata": {},
   "outputs": [
    {
     "data": {
      "text/plain": [
       "0.00201752001839811"
      ]
     },
     "execution_count": 13,
     "metadata": {},
     "output_type": "execute_result"
    }
   ],
   "source": [
    "train_data.FraudResult.mean()"
   ]
  },
  {
   "cell_type": "code",
   "execution_count": 14,
   "id": "3c82fe5a-a2f6-4e57-8161-7f2435095f02",
   "metadata": {},
   "outputs": [
    {
     "data": {
      "text/plain": [
       "((95662, 9), (45019, 7), 0.00201752001839811)"
      ]
     },
     "execution_count": 14,
     "metadata": {},
     "output_type": "execute_result"
    }
   ],
   "source": [
    "train_data.shape, test_data.shape,train_data.FraudResult.mean()"
   ]
  },
  {
   "cell_type": "code",
   "execution_count": 15,
   "id": "e09f2c3d-b0e5-4d2f-96d7-a634cbdaf1d3",
   "metadata": {},
   "outputs": [
    {
     "data": {
      "text/plain": [
       "3633"
      ]
     },
     "execution_count": 15,
     "metadata": {},
     "output_type": "execute_result"
    }
   ],
   "source": [
    "Train_account = train_data.AccountId.unique()\n",
    "n_unique_account = len(Train_account)\n",
    "n_unique_account"
   ]
  },
  {
   "cell_type": "code",
   "execution_count": null,
   "id": "dbcf3b20-d722-4475-a21f-6069171b0405",
   "metadata": {},
   "outputs": [],
   "source": []
  },
  {
   "cell_type": "code",
   "execution_count": 17,
   "id": "bd40eb79-6b75-42c5-9423-00b00937377e",
   "metadata": {},
   "outputs": [],
   "source": [
    "cat_features = ['ProviderId','ProductId','ProductCategory','ChannelId','PricingStrategy']\n",
    "num_cols = ['Amount','Value']"
   ]
  },
  {
   "cell_type": "code",
   "execution_count": 18,
   "id": "84bcc612-ea74-49b0-a83f-ebe4284b67b2",
   "metadata": {},
   "outputs": [],
   "source": [
    "test_data_copy = test_data.copy()"
   ]
  },
  {
   "cell_type": "code",
   "execution_count": 19,
   "id": "d3368ff7-d4ef-4b8c-ba2f-804c01dc3a0e",
   "metadata": {},
   "outputs": [],
   "source": [
    "set_config(transform_output=\"pandas\")\n",
    "processor = ColumnTransformer(\n",
    "    (\n",
    "        (\"numerical\", StandardScaler(), num_cols),\n",
    "        (\"categorical\",OneHotEncoder(sparse_output=False, drop=\"if_binary\", handle_unknown=\"ignore\"),cat_features)\n",
    "    ),\n",
    "    verbose_feature_names_out=False,\n",
    ")"
   ]
  },
  {
   "cell_type": "code",
   "execution_count": 20,
   "id": "b01dcaed-8fe3-44cd-9886-b733f2827c2b",
   "metadata": {},
   "outputs": [
    {
     "name": "stderr",
     "output_type": "stream",
     "text": [
      "/tmp/ipykernel_37478/1254494848.py:10: SettingWithCopyWarning: \n",
      "A value is trying to be set on a copy of a slice from a DataFrame.\n",
      "Try using .loc[row_indexer,col_indexer] = value instead\n",
      "\n",
      "See the caveats in the documentation: https://pandas.pydata.org/pandas-docs/stable/user_guide/indexing.html#returning-a-view-versus-a-copy\n",
      "  X_train['ProviderId'] = X_train['ProviderId'].apply(lambda x: 1 if x in ['ProviderId_3','ProviderId_1'] else 0)\n",
      "/tmp/ipykernel_37478/1254494848.py:11: SettingWithCopyWarning: \n",
      "A value is trying to be set on a copy of a slice from a DataFrame.\n",
      "Try using .loc[row_indexer,col_indexer] = value instead\n",
      "\n",
      "See the caveats in the documentation: https://pandas.pydata.org/pandas-docs/stable/user_guide/indexing.html#returning-a-view-versus-a-copy\n",
      "  X_valid['ProviderId'] = X_valid['ProviderId'].apply(lambda x: 1 if x in ['ProviderId_3','ProviderId_1'] else 0)\n",
      "/tmp/ipykernel_37478/1254494848.py:14: SettingWithCopyWarning: \n",
      "A value is trying to be set on a copy of a slice from a DataFrame.\n",
      "Try using .loc[row_indexer,col_indexer] = value instead\n",
      "\n",
      "See the caveats in the documentation: https://pandas.pydata.org/pandas-docs/stable/user_guide/indexing.html#returning-a-view-versus-a-copy\n",
      "  X_train['ProductId'] = X_train['ProductId'].apply(lambda x: 1 if x in ['ProductId_15'] else 0)\n",
      "/tmp/ipykernel_37478/1254494848.py:15: SettingWithCopyWarning: \n",
      "A value is trying to be set on a copy of a slice from a DataFrame.\n",
      "Try using .loc[row_indexer,col_indexer] = value instead\n",
      "\n",
      "See the caveats in the documentation: https://pandas.pydata.org/pandas-docs/stable/user_guide/indexing.html#returning-a-view-versus-a-copy\n",
      "  X_valid['ProductId'] = X_valid['ProductId'].apply(lambda x: 1 if x in ['ProductId_15'] else 0)\n",
      "/tmp/ipykernel_37478/1254494848.py:18: SettingWithCopyWarning: \n",
      "A value is trying to be set on a copy of a slice from a DataFrame.\n",
      "Try using .loc[row_indexer,col_indexer] = value instead\n",
      "\n",
      "See the caveats in the documentation: https://pandas.pydata.org/pandas-docs/stable/user_guide/indexing.html#returning-a-view-versus-a-copy\n",
      "  X_train['ProductCategory'] = X_train['ProductCategory'].apply(lambda x: 1 if x in ['financial_services'] else 0)\n",
      "/tmp/ipykernel_37478/1254494848.py:19: SettingWithCopyWarning: \n",
      "A value is trying to be set on a copy of a slice from a DataFrame.\n",
      "Try using .loc[row_indexer,col_indexer] = value instead\n",
      "\n",
      "See the caveats in the documentation: https://pandas.pydata.org/pandas-docs/stable/user_guide/indexing.html#returning-a-view-versus-a-copy\n",
      "  X_valid['ProductCategory'] = X_valid['ProductCategory'].apply(lambda x: 1 if x in ['financial_services'] else 0)\n",
      "/home/kodjo/.local/lib/python3.9/site-packages/sklearn/preprocessing/_encoders.py:202: UserWarning: Found unknown categories in columns [3] during transform. These unknown categories will be encoded as all zeros\n",
      "  warnings.warn(\n"
     ]
    }
   ],
   "source": [
    "datasets = []\n",
    "X_train = train_data\n",
    "X_valid = train_data\n",
    "Y_train = X_train.FraudResult.values\n",
    "Y_valid = X_valid.FraudResult.values\n",
    "X_train = X_train[selected_features]\n",
    "X_valid = X_valid[selected_features]\n",
    "\n",
    "test_data = test_data_copy.copy()\n",
    "X_train['ProviderId'] = X_train['ProviderId'].apply(lambda x: 1 if x in ['ProviderId_3','ProviderId_1'] else 0)\n",
    "X_valid['ProviderId'] = X_valid['ProviderId'].apply(lambda x: 1 if x in ['ProviderId_3','ProviderId_1'] else 0)\n",
    "test_data['ProviderId'] = test_data['ProviderId'].apply(lambda x: 1 if x in ['ProviderId_3','ProviderId_1'] else 0)\n",
    "\n",
    "X_train['ProductId'] = X_train['ProductId'].apply(lambda x: 1 if x in ['ProductId_15'] else 0)\n",
    "X_valid['ProductId'] = X_valid['ProductId'].apply(lambda x: 1 if x in ['ProductId_15'] else 0)\n",
    "test_data['ProductId'] = test_data['ProductId'].apply(lambda x: 1 if x in ['ProductId_15'] else 0)\n",
    "\n",
    "X_train['ProductCategory'] = X_train['ProductCategory'].apply(lambda x: 1 if x in ['financial_services'] else 0)\n",
    "X_valid['ProductCategory'] = X_valid['ProductCategory'].apply(lambda x: 1 if x in ['financial_services'] else 0)\n",
    "test_data['ProductCategory'] = test_data['ProductCategory'].apply(lambda x: 1 if x in ['financial_services'] else 0)\n",
    "\n",
    "X_train = processor.fit_transform(X_train)\n",
    "X_valid = processor.transform(X_valid)\n",
    "test_data = processor.transform(test_data)\n",
    "\n",
    "datasets.append((X_train,X_valid,Y_train,Y_valid, test_data))"
   ]
  },
  {
   "cell_type": "code",
   "execution_count": 21,
   "id": "7ba761a1-7be8-4ae0-8606-98aa92221c3a",
   "metadata": {},
   "outputs": [],
   "source": [
    "X_train,X_valid,Y_train,Y_valid, test_data = datasets[0]"
   ]
  },
  {
   "cell_type": "code",
   "execution_count": 22,
   "id": "5cabf406-e993-4871-b7b8-249fbde9eaea",
   "metadata": {},
   "outputs": [
    {
     "data": {
      "text/html": [
       "<div>\n",
       "<style scoped>\n",
       "    .dataframe tbody tr th:only-of-type {\n",
       "        vertical-align: middle;\n",
       "    }\n",
       "\n",
       "    .dataframe tbody tr th {\n",
       "        vertical-align: top;\n",
       "    }\n",
       "\n",
       "    .dataframe thead th {\n",
       "        text-align: right;\n",
       "    }\n",
       "</style>\n",
       "<table border=\"1\" class=\"dataframe\">\n",
       "  <thead>\n",
       "    <tr style=\"text-align: right;\">\n",
       "      <th></th>\n",
       "      <th>Amount</th>\n",
       "      <th>Value</th>\n",
       "      <th>ProviderId_1</th>\n",
       "      <th>ProductId_1</th>\n",
       "      <th>ProductCategory_1</th>\n",
       "      <th>ChannelId_ChannelId_1</th>\n",
       "      <th>ChannelId_ChannelId_2</th>\n",
       "      <th>ChannelId_ChannelId_3</th>\n",
       "      <th>ChannelId_ChannelId_5</th>\n",
       "      <th>PricingStrategy_0</th>\n",
       "      <th>PricingStrategy_1</th>\n",
       "      <th>PricingStrategy_2</th>\n",
       "      <th>PricingStrategy_4</th>\n",
       "    </tr>\n",
       "  </thead>\n",
       "  <tbody>\n",
       "    <tr>\n",
       "      <th>0</th>\n",
       "      <td>-0.046371</td>\n",
       "      <td>-0.072291</td>\n",
       "      <td>0.0</td>\n",
       "      <td>0.0</td>\n",
       "      <td>0.0</td>\n",
       "      <td>0.0</td>\n",
       "      <td>0.0</td>\n",
       "      <td>1.0</td>\n",
       "      <td>0.0</td>\n",
       "      <td>0.0</td>\n",
       "      <td>0.0</td>\n",
       "      <td>1.0</td>\n",
       "      <td>0.0</td>\n",
       "    </tr>\n",
       "    <tr>\n",
       "      <th>1</th>\n",
       "      <td>-0.054643</td>\n",
       "      <td>-0.080251</td>\n",
       "      <td>0.0</td>\n",
       "      <td>0.0</td>\n",
       "      <td>1.0</td>\n",
       "      <td>0.0</td>\n",
       "      <td>1.0</td>\n",
       "      <td>0.0</td>\n",
       "      <td>0.0</td>\n",
       "      <td>0.0</td>\n",
       "      <td>0.0</td>\n",
       "      <td>1.0</td>\n",
       "      <td>0.0</td>\n",
       "    </tr>\n",
       "    <tr>\n",
       "      <th>2</th>\n",
       "      <td>-0.050426</td>\n",
       "      <td>-0.076352</td>\n",
       "      <td>0.0</td>\n",
       "      <td>0.0</td>\n",
       "      <td>0.0</td>\n",
       "      <td>0.0</td>\n",
       "      <td>0.0</td>\n",
       "      <td>1.0</td>\n",
       "      <td>0.0</td>\n",
       "      <td>0.0</td>\n",
       "      <td>0.0</td>\n",
       "      <td>1.0</td>\n",
       "      <td>0.0</td>\n",
       "    </tr>\n",
       "    <tr>\n",
       "      <th>3</th>\n",
       "      <td>0.107717</td>\n",
       "      <td>0.096648</td>\n",
       "      <td>1.0</td>\n",
       "      <td>0.0</td>\n",
       "      <td>0.0</td>\n",
       "      <td>0.0</td>\n",
       "      <td>0.0</td>\n",
       "      <td>1.0</td>\n",
       "      <td>0.0</td>\n",
       "      <td>0.0</td>\n",
       "      <td>0.0</td>\n",
       "      <td>1.0</td>\n",
       "      <td>0.0</td>\n",
       "    </tr>\n",
       "    <tr>\n",
       "      <th>4</th>\n",
       "      <td>-0.059704</td>\n",
       "      <td>-0.075183</td>\n",
       "      <td>0.0</td>\n",
       "      <td>0.0</td>\n",
       "      <td>1.0</td>\n",
       "      <td>0.0</td>\n",
       "      <td>1.0</td>\n",
       "      <td>0.0</td>\n",
       "      <td>0.0</td>\n",
       "      <td>0.0</td>\n",
       "      <td>0.0</td>\n",
       "      <td>1.0</td>\n",
       "      <td>0.0</td>\n",
       "    </tr>\n",
       "  </tbody>\n",
       "</table>\n",
       "</div>"
      ],
      "text/plain": [
       "     Amount     Value  ProviderId_1  ProductId_1  ProductCategory_1  \\\n",
       "0 -0.046371 -0.072291           0.0          0.0                0.0   \n",
       "1 -0.054643 -0.080251           0.0          0.0                1.0   \n",
       "2 -0.050426 -0.076352           0.0          0.0                0.0   \n",
       "3  0.107717  0.096648           1.0          0.0                0.0   \n",
       "4 -0.059704 -0.075183           0.0          0.0                1.0   \n",
       "\n",
       "   ChannelId_ChannelId_1  ChannelId_ChannelId_2  ChannelId_ChannelId_3  \\\n",
       "0                    0.0                    0.0                    1.0   \n",
       "1                    0.0                    1.0                    0.0   \n",
       "2                    0.0                    0.0                    1.0   \n",
       "3                    0.0                    0.0                    1.0   \n",
       "4                    0.0                    1.0                    0.0   \n",
       "\n",
       "   ChannelId_ChannelId_5  PricingStrategy_0  PricingStrategy_1  \\\n",
       "0                    0.0                0.0                0.0   \n",
       "1                    0.0                0.0                0.0   \n",
       "2                    0.0                0.0                0.0   \n",
       "3                    0.0                0.0                0.0   \n",
       "4                    0.0                0.0                0.0   \n",
       "\n",
       "   PricingStrategy_2  PricingStrategy_4  \n",
       "0                1.0                0.0  \n",
       "1                1.0                0.0  \n",
       "2                1.0                0.0  \n",
       "3                1.0                0.0  \n",
       "4                1.0                0.0  "
      ]
     },
     "execution_count": 22,
     "metadata": {},
     "output_type": "execute_result"
    }
   ],
   "source": [
    "X_train.head()"
   ]
  },
  {
   "cell_type": "code",
   "execution_count": 23,
   "id": "8919bcc5-f960-4e31-bfe6-019e71d6f8d9",
   "metadata": {},
   "outputs": [
    {
     "data": {
      "text/html": [
       "<div>\n",
       "<style scoped>\n",
       "    .dataframe tbody tr th:only-of-type {\n",
       "        vertical-align: middle;\n",
       "    }\n",
       "\n",
       "    .dataframe tbody tr th {\n",
       "        vertical-align: top;\n",
       "    }\n",
       "\n",
       "    .dataframe thead th {\n",
       "        text-align: right;\n",
       "    }\n",
       "</style>\n",
       "<table border=\"1\" class=\"dataframe\">\n",
       "  <thead>\n",
       "    <tr style=\"text-align: right;\">\n",
       "      <th></th>\n",
       "      <th>Amount</th>\n",
       "      <th>Value</th>\n",
       "      <th>ProviderId_1</th>\n",
       "      <th>ProductId_1</th>\n",
       "      <th>ProductCategory_1</th>\n",
       "      <th>ChannelId_ChannelId_1</th>\n",
       "      <th>ChannelId_ChannelId_2</th>\n",
       "      <th>ChannelId_ChannelId_3</th>\n",
       "      <th>ChannelId_ChannelId_5</th>\n",
       "      <th>PricingStrategy_0</th>\n",
       "      <th>PricingStrategy_1</th>\n",
       "      <th>PricingStrategy_2</th>\n",
       "      <th>PricingStrategy_4</th>\n",
       "    </tr>\n",
       "  </thead>\n",
       "  <tbody>\n",
       "    <tr>\n",
       "      <th>0</th>\n",
       "      <td>-0.046371</td>\n",
       "      <td>-0.072291</td>\n",
       "      <td>0.0</td>\n",
       "      <td>0.0</td>\n",
       "      <td>0.0</td>\n",
       "      <td>0.0</td>\n",
       "      <td>0.0</td>\n",
       "      <td>1.0</td>\n",
       "      <td>0.0</td>\n",
       "      <td>0.0</td>\n",
       "      <td>0.0</td>\n",
       "      <td>0.0</td>\n",
       "      <td>1.0</td>\n",
       "    </tr>\n",
       "    <tr>\n",
       "      <th>1</th>\n",
       "      <td>-0.038261</td>\n",
       "      <td>-0.064169</td>\n",
       "      <td>0.0</td>\n",
       "      <td>1.0</td>\n",
       "      <td>1.0</td>\n",
       "      <td>0.0</td>\n",
       "      <td>0.0</td>\n",
       "      <td>1.0</td>\n",
       "      <td>0.0</td>\n",
       "      <td>0.0</td>\n",
       "      <td>0.0</td>\n",
       "      <td>1.0</td>\n",
       "      <td>0.0</td>\n",
       "    </tr>\n",
       "    <tr>\n",
       "      <th>2</th>\n",
       "      <td>-0.054887</td>\n",
       "      <td>-0.080007</td>\n",
       "      <td>0.0</td>\n",
       "      <td>0.0</td>\n",
       "      <td>1.0</td>\n",
       "      <td>0.0</td>\n",
       "      <td>1.0</td>\n",
       "      <td>0.0</td>\n",
       "      <td>0.0</td>\n",
       "      <td>0.0</td>\n",
       "      <td>0.0</td>\n",
       "      <td>1.0</td>\n",
       "      <td>0.0</td>\n",
       "    </tr>\n",
       "    <tr>\n",
       "      <th>3</th>\n",
       "      <td>-0.030151</td>\n",
       "      <td>-0.056047</td>\n",
       "      <td>0.0</td>\n",
       "      <td>0.0</td>\n",
       "      <td>0.0</td>\n",
       "      <td>0.0</td>\n",
       "      <td>0.0</td>\n",
       "      <td>1.0</td>\n",
       "      <td>0.0</td>\n",
       "      <td>0.0</td>\n",
       "      <td>0.0</td>\n",
       "      <td>0.0</td>\n",
       "      <td>1.0</td>\n",
       "    </tr>\n",
       "    <tr>\n",
       "      <th>4</th>\n",
       "      <td>-0.054968</td>\n",
       "      <td>-0.079926</td>\n",
       "      <td>0.0</td>\n",
       "      <td>0.0</td>\n",
       "      <td>1.0</td>\n",
       "      <td>0.0</td>\n",
       "      <td>1.0</td>\n",
       "      <td>0.0</td>\n",
       "      <td>0.0</td>\n",
       "      <td>0.0</td>\n",
       "      <td>0.0</td>\n",
       "      <td>1.0</td>\n",
       "      <td>0.0</td>\n",
       "    </tr>\n",
       "  </tbody>\n",
       "</table>\n",
       "</div>"
      ],
      "text/plain": [
       "     Amount     Value  ProviderId_1  ProductId_1  ProductCategory_1  \\\n",
       "0 -0.046371 -0.072291           0.0          0.0                0.0   \n",
       "1 -0.038261 -0.064169           0.0          1.0                1.0   \n",
       "2 -0.054887 -0.080007           0.0          0.0                1.0   \n",
       "3 -0.030151 -0.056047           0.0          0.0                0.0   \n",
       "4 -0.054968 -0.079926           0.0          0.0                1.0   \n",
       "\n",
       "   ChannelId_ChannelId_1  ChannelId_ChannelId_2  ChannelId_ChannelId_3  \\\n",
       "0                    0.0                    0.0                    1.0   \n",
       "1                    0.0                    0.0                    1.0   \n",
       "2                    0.0                    1.0                    0.0   \n",
       "3                    0.0                    0.0                    1.0   \n",
       "4                    0.0                    1.0                    0.0   \n",
       "\n",
       "   ChannelId_ChannelId_5  PricingStrategy_0  PricingStrategy_1  \\\n",
       "0                    0.0                0.0                0.0   \n",
       "1                    0.0                0.0                0.0   \n",
       "2                    0.0                0.0                0.0   \n",
       "3                    0.0                0.0                0.0   \n",
       "4                    0.0                0.0                0.0   \n",
       "\n",
       "   PricingStrategy_2  PricingStrategy_4  \n",
       "0                0.0                1.0  \n",
       "1                1.0                0.0  \n",
       "2                1.0                0.0  \n",
       "3                0.0                1.0  \n",
       "4                1.0                0.0  "
      ]
     },
     "execution_count": 23,
     "metadata": {},
     "output_type": "execute_result"
    }
   ],
   "source": [
    "test_data.head()"
   ]
  },
  {
   "cell_type": "code",
   "execution_count": 24,
   "id": "fcad4d47-7e04-4d6a-b98b-7c4ba052c311",
   "metadata": {},
   "outputs": [
    {
     "data": {
      "text/plain": [
       "((95662, 13), (95662, 13), 0.00201752001839811, 0.00201752001839811)"
      ]
     },
     "execution_count": 24,
     "metadata": {},
     "output_type": "execute_result"
    }
   ],
   "source": [
    "X_train.shape, X_valid.shape, Y_train.mean(), Y_valid.mean()"
   ]
  },
  {
   "cell_type": "code",
   "execution_count": 25,
   "id": "0b6f5aec-af7b-45ee-b7e1-2d3e04b87cbb",
   "metadata": {},
   "outputs": [
    {
     "data": {
      "text/plain": [
       "(193, 193)"
      ]
     },
     "execution_count": 25,
     "metadata": {},
     "output_type": "execute_result"
    }
   ],
   "source": [
    "Y_train.sum(),Y_valid.sum()"
   ]
  },
  {
   "cell_type": "code",
   "execution_count": 26,
   "id": "0a23c44d-f4f7-4026-ab0f-117dc5bf2a41",
   "metadata": {},
   "outputs": [
    {
     "data": {
      "text/plain": [
       "((95662, 9), (45019, 13))"
      ]
     },
     "execution_count": 26,
     "metadata": {},
     "output_type": "execute_result"
    }
   ],
   "source": [
    "train_data.shape,test_data.shape"
   ]
  },
  {
   "cell_type": "markdown",
   "id": "3b22a758-601e-4b51-9d05-247b42c7f76e",
   "metadata": {},
   "source": [
    "### Model "
   ]
  },
  {
   "cell_type": "code",
   "execution_count": 38,
   "id": "572c9504-a97d-4f28-a22a-afe5eb90282c",
   "metadata": {},
   "outputs": [],
   "source": [
    "static_params = {\n",
    "                 'max_depth':4,\n",
    "                 'n_estimators': 500,\n",
    "                 'n_jobs': -1,\n",
    "                 'random_state':42\n",
    "                 \n",
    "\n",
    "}"
   ]
  },
  {
   "cell_type": "code",
   "execution_count": 39,
   "id": "ec560f2f-316b-4822-92f1-c2ba8ec2fa22",
   "metadata": {},
   "outputs": [],
   "source": [
    "xgb_model = RF(**static_params)"
   ]
  },
  {
   "cell_type": "code",
   "execution_count": 40,
   "id": "671df273-5fc5-4ab5-bd46-5d19a14769a4",
   "metadata": {},
   "outputs": [],
   "source": [
    "X_train_, X_test_, Y_train_, Y_test_, test_data = datasets[0]"
   ]
  },
  {
   "cell_type": "code",
   "execution_count": 41,
   "id": "a00852ed-cb29-4911-a552-88dfac42220c",
   "metadata": {},
   "outputs": [
    {
     "data": {
      "text/html": [
       "<style>#sk-container-id-2 {color: black;background-color: white;}#sk-container-id-2 pre{padding: 0;}#sk-container-id-2 div.sk-toggleable {background-color: white;}#sk-container-id-2 label.sk-toggleable__label {cursor: pointer;display: block;width: 100%;margin-bottom: 0;padding: 0.3em;box-sizing: border-box;text-align: center;}#sk-container-id-2 label.sk-toggleable__label-arrow:before {content: \"▸\";float: left;margin-right: 0.25em;color: #696969;}#sk-container-id-2 label.sk-toggleable__label-arrow:hover:before {color: black;}#sk-container-id-2 div.sk-estimator:hover label.sk-toggleable__label-arrow:before {color: black;}#sk-container-id-2 div.sk-toggleable__content {max-height: 0;max-width: 0;overflow: hidden;text-align: left;background-color: #f0f8ff;}#sk-container-id-2 div.sk-toggleable__content pre {margin: 0.2em;color: black;border-radius: 0.25em;background-color: #f0f8ff;}#sk-container-id-2 input.sk-toggleable__control:checked~div.sk-toggleable__content {max-height: 200px;max-width: 100%;overflow: auto;}#sk-container-id-2 input.sk-toggleable__control:checked~label.sk-toggleable__label-arrow:before {content: \"▾\";}#sk-container-id-2 div.sk-estimator input.sk-toggleable__control:checked~label.sk-toggleable__label {background-color: #d4ebff;}#sk-container-id-2 div.sk-label input.sk-toggleable__control:checked~label.sk-toggleable__label {background-color: #d4ebff;}#sk-container-id-2 input.sk-hidden--visually {border: 0;clip: rect(1px 1px 1px 1px);clip: rect(1px, 1px, 1px, 1px);height: 1px;margin: -1px;overflow: hidden;padding: 0;position: absolute;width: 1px;}#sk-container-id-2 div.sk-estimator {font-family: monospace;background-color: #f0f8ff;border: 1px dotted black;border-radius: 0.25em;box-sizing: border-box;margin-bottom: 0.5em;}#sk-container-id-2 div.sk-estimator:hover {background-color: #d4ebff;}#sk-container-id-2 div.sk-parallel-item::after {content: \"\";width: 100%;border-bottom: 1px solid gray;flex-grow: 1;}#sk-container-id-2 div.sk-label:hover label.sk-toggleable__label {background-color: #d4ebff;}#sk-container-id-2 div.sk-serial::before {content: \"\";position: absolute;border-left: 1px solid gray;box-sizing: border-box;top: 0;bottom: 0;left: 50%;z-index: 0;}#sk-container-id-2 div.sk-serial {display: flex;flex-direction: column;align-items: center;background-color: white;padding-right: 0.2em;padding-left: 0.2em;position: relative;}#sk-container-id-2 div.sk-item {position: relative;z-index: 1;}#sk-container-id-2 div.sk-parallel {display: flex;align-items: stretch;justify-content: center;background-color: white;position: relative;}#sk-container-id-2 div.sk-item::before, #sk-container-id-2 div.sk-parallel-item::before {content: \"\";position: absolute;border-left: 1px solid gray;box-sizing: border-box;top: 0;bottom: 0;left: 50%;z-index: -1;}#sk-container-id-2 div.sk-parallel-item {display: flex;flex-direction: column;z-index: 1;position: relative;background-color: white;}#sk-container-id-2 div.sk-parallel-item:first-child::after {align-self: flex-end;width: 50%;}#sk-container-id-2 div.sk-parallel-item:last-child::after {align-self: flex-start;width: 50%;}#sk-container-id-2 div.sk-parallel-item:only-child::after {width: 0;}#sk-container-id-2 div.sk-dashed-wrapped {border: 1px dashed gray;margin: 0 0.4em 0.5em 0.4em;box-sizing: border-box;padding-bottom: 0.4em;background-color: white;}#sk-container-id-2 div.sk-label label {font-family: monospace;font-weight: bold;display: inline-block;line-height: 1.2em;}#sk-container-id-2 div.sk-label-container {text-align: center;}#sk-container-id-2 div.sk-container {/* jupyter's `normalize.less` sets `[hidden] { display: none; }` but bootstrap.min.css set `[hidden] { display: none !important; }` so we also need the `!important` here to be able to override the default hidden behavior on the sphinx rendered scikit-learn.org. See: https://github.com/scikit-learn/scikit-learn/issues/21755 */display: inline-block !important;position: relative;}#sk-container-id-2 div.sk-text-repr-fallback {display: none;}</style><div id=\"sk-container-id-2\" class=\"sk-top-container\"><div class=\"sk-text-repr-fallback\"><pre>RandomForestClassifier(max_depth=4, n_estimators=500, n_jobs=-1,\n",
       "                       random_state=42)</pre><b>In a Jupyter environment, please rerun this cell to show the HTML representation or trust the notebook. <br />On GitHub, the HTML representation is unable to render, please try loading this page with nbviewer.org.</b></div><div class=\"sk-container\" hidden><div class=\"sk-item\"><div class=\"sk-estimator sk-toggleable\"><input class=\"sk-toggleable__control sk-hidden--visually\" id=\"sk-estimator-id-2\" type=\"checkbox\" checked><label for=\"sk-estimator-id-2\" class=\"sk-toggleable__label sk-toggleable__label-arrow\">RandomForestClassifier</label><div class=\"sk-toggleable__content\"><pre>RandomForestClassifier(max_depth=4, n_estimators=500, n_jobs=-1,\n",
       "                       random_state=42)</pre></div></div></div></div></div>"
      ],
      "text/plain": [
       "RandomForestClassifier(max_depth=4, n_estimators=500, n_jobs=-1,\n",
       "                       random_state=42)"
      ]
     },
     "execution_count": 41,
     "metadata": {},
     "output_type": "execute_result"
    }
   ],
   "source": [
    "xgb_model.fit(X_train_, Y_train_)"
   ]
  },
  {
   "cell_type": "code",
   "execution_count": 42,
   "id": "97516a7f-767b-4bf1-bb2d-ece4aaec88a0",
   "metadata": {},
   "outputs": [],
   "source": [
    "pred_final = [xgb_model.predict_proba(test_data)[:,1]]"
   ]
  },
  {
   "cell_type": "code",
   "execution_count": 43,
   "id": "e66f072b-c189-44a5-8b4f-2084b872abd8",
   "metadata": {},
   "outputs": [],
   "source": [
    "pred_train  = xgb_model.predict_proba(X_train_)[:,1]"
   ]
  },
  {
   "cell_type": "markdown",
   "id": "8c08e602-a40b-4276-a909-72d034d8b83b",
   "metadata": {},
   "source": [
    "### Choice of the Tresh "
   ]
  },
  {
   "cell_type": "code",
   "execution_count": 44,
   "id": "a5a94933-7ce7-4602-b466-956cd8f14433",
   "metadata": {},
   "outputs": [],
   "source": [
    "def Tresh_to_metric(y_true,pred_t, treshs):\n",
    "    res = list()\n",
    "    for tresh in treshs:\n",
    "        pred_tresh = (pred_t>tresh).astype(int)\n",
    "        res.append(f1_score(y_true,pred_tresh))\n",
    "    return res"
   ]
  },
  {
   "cell_type": "code",
   "execution_count": 45,
   "id": "5fc7fb73-9d54-459f-8550-56c50121188a",
   "metadata": {},
   "outputs": [],
   "source": [
    "treshs = np.arange(0.3, 0.6, 0.005)\n",
    "ress = Tresh_to_metric(Y_train_, pred_train,treshs)"
   ]
  },
  {
   "cell_type": "code",
   "execution_count": 46,
   "id": "65a008e2-0ea7-4e82-8c8c-a36194ae0805",
   "metadata": {},
   "outputs": [
    {
     "data": {
      "image/png": "[encoded data removed]",
      "text/plain": [
       "<Figure size 432x288 with 1 Axes>"
      ]
     },
     "metadata": {
      "needs_background": "light"
     },
     "output_type": "display_data"
    }
   ],
   "source": [
    "plt.scatter(treshs,ress);"
   ]
  },
  {
   "cell_type": "code",
   "execution_count": 47,
   "id": "fb687284-803f-4812-ba84-ad3831bae190",
   "metadata": {},
   "outputs": [],
   "source": [
    "pred_tresh = (pred_train>0.50).astype(int)"
   ]
  },
  {
   "cell_type": "code",
   "execution_count": 48,
   "id": "4811b6fe-0c82-4bc9-8701-3a93d73ecf7c",
   "metadata": {},
   "outputs": [
    {
     "data": {
      "text/plain": [
       "0.8812664907651714"
      ]
     },
     "execution_count": 48,
     "metadata": {},
     "output_type": "execute_result"
    }
   ],
   "source": [
    "f1_score(Y_train_,pred_tresh)"
   ]
  },
  {
   "cell_type": "code",
   "execution_count": 49,
   "id": "ccd8bfb1-a0df-4b40-b0c9-5ae7e3f558b8",
   "metadata": {},
   "outputs": [
    {
     "data": {
      "image/png": "[encoded data removed]",
      "text/plain": [
       "<Figure size 432x288 with 1 Axes>"
      ]
     },
     "metadata": {
      "needs_background": "light"
     },
     "output_type": "display_data"
    }
   ],
   "source": [
    "plt.hist(pred_train);"
   ]
  },
  {
   "cell_type": "markdown",
   "id": "087a9446-5635-494b-9d4c-05ee9133d52b",
   "metadata": {},
   "source": [
    "## Final submission"
   ]
  },
  {
   "cell_type": "code",
   "execution_count": 58,
   "id": "7e696b16-b295-4849-ac67-2e3f29257318",
   "metadata": {},
   "outputs": [],
   "source": [
    "pred_f = pred_final[0]"
   ]
  },
  {
   "cell_type": "code",
   "execution_count": 59,
   "id": "3ee8ac3c-32ec-41db-af88-31a0364ea2c8",
   "metadata": {},
   "outputs": [],
   "source": [
    "submittions = pd.read_csv(data_path+'sample_submission.csv',low_memory=False)\n"
   ]
  },
  {
   "cell_type": "code",
   "execution_count": 60,
   "id": "2aa7aa50-7e2a-49d0-a4e0-f8e643c7e3a3",
   "metadata": {},
   "outputs": [
    {
     "data": {
      "text/html": [
       "<div>\n",
       "<style scoped>\n",
       "    .dataframe tbody tr th:only-of-type {\n",
       "        vertical-align: middle;\n",
       "    }\n",
       "\n",
       "    .dataframe tbody tr th {\n",
       "        vertical-align: top;\n",
       "    }\n",
       "\n",
       "    .dataframe thead th {\n",
       "        text-align: right;\n",
       "    }\n",
       "</style>\n",
       "<table border=\"1\" class=\"dataframe\">\n",
       "  <thead>\n",
       "    <tr style=\"text-align: right;\">\n",
       "      <th></th>\n",
       "      <th>TransactionId</th>\n",
       "      <th>FraudResult</th>\n",
       "    </tr>\n",
       "  </thead>\n",
       "  <tbody>\n",
       "    <tr>\n",
       "      <th>0</th>\n",
       "      <td>TransactionId_50600</td>\n",
       "      <td>NaN</td>\n",
       "    </tr>\n",
       "    <tr>\n",
       "      <th>1</th>\n",
       "      <td>TransactionId_95109</td>\n",
       "      <td>NaN</td>\n",
       "    </tr>\n",
       "    <tr>\n",
       "      <th>2</th>\n",
       "      <td>TransactionId_47357</td>\n",
       "      <td>NaN</td>\n",
       "    </tr>\n",
       "    <tr>\n",
       "      <th>3</th>\n",
       "      <td>TransactionId_28185</td>\n",
       "      <td>NaN</td>\n",
       "    </tr>\n",
       "    <tr>\n",
       "      <th>4</th>\n",
       "      <td>TransactionId_22140</td>\n",
       "      <td>NaN</td>\n",
       "    </tr>\n",
       "  </tbody>\n",
       "</table>\n",
       "</div>"
      ],
      "text/plain": [
       "         TransactionId  FraudResult\n",
       "0  TransactionId_50600          NaN\n",
       "1  TransactionId_95109          NaN\n",
       "2  TransactionId_47357          NaN\n",
       "3  TransactionId_28185          NaN\n",
       "4  TransactionId_22140          NaN"
      ]
     },
     "execution_count": 60,
     "metadata": {},
     "output_type": "execute_result"
    }
   ],
   "source": [
    "submittions.head()"
   ]
  },
  {
   "cell_type": "code",
   "execution_count": 61,
   "id": "e0f2c5fd-100e-46ec-a101-85dbc3920a79",
   "metadata": {},
   "outputs": [
    {
     "data": {
      "text/plain": [
       "(45019, 2)"
      ]
     },
     "execution_count": 61,
     "metadata": {},
     "output_type": "execute_result"
    }
   ],
   "source": [
    "submittions.shape"
   ]
  },
  {
   "cell_type": "code",
   "execution_count": 62,
   "id": "8ef0db02-9608-464a-a99b-902e41a60eda",
   "metadata": {},
   "outputs": [
    {
     "data": {
      "text/plain": [
       "array(['TransactionId_50600', 'TransactionId_95109',\n",
       "       'TransactionId_47357', 'TransactionId_28185',\n",
       "       'TransactionId_22140'], dtype=object)"
      ]
     },
     "execution_count": 62,
     "metadata": {},
     "output_type": "execute_result"
    }
   ],
   "source": [
    "TransactionId_test[:5]"
   ]
  },
  {
   "cell_type": "code",
   "execution_count": 63,
   "id": "d4f5ad86-9b14-413a-bcdd-e22ba9be784d",
   "metadata": {},
   "outputs": [],
   "source": [
    "# Create submission DataFrame\n",
    "submission = pd.DataFrame({\"TransactionId\": TransactionId_test,\n",
    "                           \"FraudResult\": (pred_f>0.5).astype(int)})"
   ]
  },
  {
   "cell_type": "code",
   "execution_count": null,
   "id": "cd386391-8b3e-4c04-b496-5488fa84ae1d",
   "metadata": {},
   "outputs": [],
   "source": []
  },
  {
   "cell_type": "code",
   "execution_count": 66,
   "id": "6fb1caaa-ada2-4bd2-ad1c-e0eb1b6815e7",
   "metadata": {},
   "outputs": [],
   "source": [
    "submission.to_csv('Results/submit_V2_all_train_same_ponderation_RF.csv', index = False)"
   ]
  },
  {
   "cell_type": "code",
   "execution_count": 67,
   "id": "d712a8a4-f3e6-433d-a330-2e57a09a77e0",
   "metadata": {},
   "outputs": [
    {
     "data": {
      "text/plain": [
       "0.0016215375730247229"
      ]
     },
     "execution_count": 67,
     "metadata": {},
     "output_type": "execute_result"
    }
   ],
   "source": [
    "(pred_f>0.5).astype(int).mean()"
   ]
  },
  {
   "cell_type": "markdown",
   "id": "bd3cee36-b947-4157-9f5b-66a092ad642e",
   "metadata": {},
   "source": [
    "### Expert rules"
   ]
  },
  {
   "cell_type": "code",
   "execution_count": 69,
   "id": "c49a759b-391f-4841-ba75-94a3db5d1464",
   "metadata": {},
   "outputs": [],
   "source": [
    "submission = pd.read_csv('Results/submit_V2_all_train_same_ponderation_RF.csv')"
   ]
  },
  {
   "cell_type": "code",
   "execution_count": 70,
   "id": "abbfd8cf-e435-4522-bfe9-9e9fe08f959a",
   "metadata": {},
   "outputs": [],
   "source": [
    "id_pos_transac = ['TransactionId_59595',\n",
    " 'TransactionId_87268',\n",
    " 'TransactionId_9176',\n",
    " 'TransactionId_114219',\n",
    " 'TransactionId_87779',\n",
    " 'TransactionId_26542']"
   ]
  },
  {
   "cell_type": "code",
   "execution_count": 71,
   "id": "43fa4a53-590a-4ded-ae63-9665a9f5769a",
   "metadata": {},
   "outputs": [],
   "source": [
    "id_neg_transac = ['TransactionId_112820',\n",
    " 'TransactionId_123757',\n",
    " 'TransactionId_70610',\n",
    " 'TransactionId_84063']"
   ]
  },
  {
   "cell_type": "code",
   "execution_count": 72,
   "id": "2d469672-e6cd-461f-aaa0-62fade62ac0e",
   "metadata": {},
   "outputs": [
    {
     "data": {
      "text/html": [
       "<div>\n",
       "<style scoped>\n",
       "    .dataframe tbody tr th:only-of-type {\n",
       "        vertical-align: middle;\n",
       "    }\n",
       "\n",
       "    .dataframe tbody tr th {\n",
       "        vertical-align: top;\n",
       "    }\n",
       "\n",
       "    .dataframe thead th {\n",
       "        text-align: right;\n",
       "    }\n",
       "</style>\n",
       "<table border=\"1\" class=\"dataframe\">\n",
       "  <thead>\n",
       "    <tr style=\"text-align: right;\">\n",
       "      <th></th>\n",
       "      <th>TransactionId</th>\n",
       "      <th>FraudResult</th>\n",
       "    </tr>\n",
       "  </thead>\n",
       "  <tbody>\n",
       "    <tr>\n",
       "      <th>17633</th>\n",
       "      <td>TransactionId_87268</td>\n",
       "      <td>0</td>\n",
       "    </tr>\n",
       "    <tr>\n",
       "      <th>17634</th>\n",
       "      <td>TransactionId_59595</td>\n",
       "      <td>0</td>\n",
       "    </tr>\n",
       "    <tr>\n",
       "      <th>19271</th>\n",
       "      <td>TransactionId_26542</td>\n",
       "      <td>0</td>\n",
       "    </tr>\n",
       "    <tr>\n",
       "      <th>19273</th>\n",
       "      <td>TransactionId_87779</td>\n",
       "      <td>0</td>\n",
       "    </tr>\n",
       "    <tr>\n",
       "      <th>19674</th>\n",
       "      <td>TransactionId_114219</td>\n",
       "      <td>0</td>\n",
       "    </tr>\n",
       "    <tr>\n",
       "      <th>19677</th>\n",
       "      <td>TransactionId_9176</td>\n",
       "      <td>0</td>\n",
       "    </tr>\n",
       "  </tbody>\n",
       "</table>\n",
       "</div>"
      ],
      "text/plain": [
       "              TransactionId  FraudResult\n",
       "17633   TransactionId_87268            0\n",
       "17634   TransactionId_59595            0\n",
       "19271   TransactionId_26542            0\n",
       "19273   TransactionId_87779            0\n",
       "19674  TransactionId_114219            0\n",
       "19677    TransactionId_9176            0"
      ]
     },
     "execution_count": 72,
     "metadata": {},
     "output_type": "execute_result"
    }
   ],
   "source": [
    "submission[submission.TransactionId.isin(id_pos_transac)]"
   ]
  },
  {
   "cell_type": "code",
   "execution_count": 73,
   "id": "0e65bc64-ef76-4679-9872-9b39ae68c8fd",
   "metadata": {},
   "outputs": [
    {
     "data": {
      "text/html": [
       "<div>\n",
       "<style scoped>\n",
       "    .dataframe tbody tr th:only-of-type {\n",
       "        vertical-align: middle;\n",
       "    }\n",
       "\n",
       "    .dataframe tbody tr th {\n",
       "        vertical-align: top;\n",
       "    }\n",
       "\n",
       "    .dataframe thead th {\n",
       "        text-align: right;\n",
       "    }\n",
       "</style>\n",
       "<table border=\"1\" class=\"dataframe\">\n",
       "  <thead>\n",
       "    <tr style=\"text-align: right;\">\n",
       "      <th></th>\n",
       "      <th>TransactionId</th>\n",
       "      <th>FraudResult</th>\n",
       "    </tr>\n",
       "  </thead>\n",
       "  <tbody>\n",
       "    <tr>\n",
       "      <th>23533</th>\n",
       "      <td>TransactionId_70610</td>\n",
       "      <td>1</td>\n",
       "    </tr>\n",
       "    <tr>\n",
       "      <th>24868</th>\n",
       "      <td>TransactionId_112820</td>\n",
       "      <td>1</td>\n",
       "    </tr>\n",
       "    <tr>\n",
       "      <th>24939</th>\n",
       "      <td>TransactionId_123757</td>\n",
       "      <td>1</td>\n",
       "    </tr>\n",
       "    <tr>\n",
       "      <th>39192</th>\n",
       "      <td>TransactionId_84063</td>\n",
       "      <td>1</td>\n",
       "    </tr>\n",
       "  </tbody>\n",
       "</table>\n",
       "</div>"
      ],
      "text/plain": [
       "              TransactionId  FraudResult\n",
       "23533   TransactionId_70610            1\n",
       "24868  TransactionId_112820            1\n",
       "24939  TransactionId_123757            1\n",
       "39192   TransactionId_84063            1"
      ]
     },
     "execution_count": 73,
     "metadata": {},
     "output_type": "execute_result"
    }
   ],
   "source": [
    "submission[submission.TransactionId.isin(id_neg_transac)]"
   ]
  },
  {
   "cell_type": "code",
   "execution_count": 74,
   "id": "3e03b2a2-e36d-4c54-b0f3-2c554ab0eb87",
   "metadata": {},
   "outputs": [],
   "source": [
    "submission.loc[submission.TransactionId.isin(id_neg_transac), 'FraudResult']=0\n",
    "submission.loc[submission.TransactionId.isin(id_pos_transac),'FraudResult']=1"
   ]
  },
  {
   "cell_type": "code",
   "execution_count": 75,
   "id": "9a0cc9d6-0a15-4d83-97f0-ff7aeeecd7e8",
   "metadata": {},
   "outputs": [
    {
     "data": {
      "text/html": [
       "<div>\n",
       "<style scoped>\n",
       "    .dataframe tbody tr th:only-of-type {\n",
       "        vertical-align: middle;\n",
       "    }\n",
       "\n",
       "    .dataframe tbody tr th {\n",
       "        vertical-align: top;\n",
       "    }\n",
       "\n",
       "    .dataframe thead th {\n",
       "        text-align: right;\n",
       "    }\n",
       "</style>\n",
       "<table border=\"1\" class=\"dataframe\">\n",
       "  <thead>\n",
       "    <tr style=\"text-align: right;\">\n",
       "      <th></th>\n",
       "      <th>TransactionId</th>\n",
       "      <th>FraudResult</th>\n",
       "    </tr>\n",
       "  </thead>\n",
       "  <tbody>\n",
       "    <tr>\n",
       "      <th>0</th>\n",
       "      <td>TransactionId_50600</td>\n",
       "      <td>0</td>\n",
       "    </tr>\n",
       "    <tr>\n",
       "      <th>1</th>\n",
       "      <td>TransactionId_95109</td>\n",
       "      <td>0</td>\n",
       "    </tr>\n",
       "    <tr>\n",
       "      <th>2</th>\n",
       "      <td>TransactionId_47357</td>\n",
       "      <td>0</td>\n",
       "    </tr>\n",
       "    <tr>\n",
       "      <th>3</th>\n",
       "      <td>TransactionId_28185</td>\n",
       "      <td>0</td>\n",
       "    </tr>\n",
       "    <tr>\n",
       "      <th>4</th>\n",
       "      <td>TransactionId_22140</td>\n",
       "      <td>0</td>\n",
       "    </tr>\n",
       "    <tr>\n",
       "      <th>...</th>\n",
       "      <td>...</td>\n",
       "      <td>...</td>\n",
       "    </tr>\n",
       "    <tr>\n",
       "      <th>45014</th>\n",
       "      <td>TransactionId_116198</td>\n",
       "      <td>0</td>\n",
       "    </tr>\n",
       "    <tr>\n",
       "      <th>45015</th>\n",
       "      <td>TransactionId_24829</td>\n",
       "      <td>0</td>\n",
       "    </tr>\n",
       "    <tr>\n",
       "      <th>45016</th>\n",
       "      <td>TransactionId_102920</td>\n",
       "      <td>0</td>\n",
       "    </tr>\n",
       "    <tr>\n",
       "      <th>45017</th>\n",
       "      <td>TransactionId_128439</td>\n",
       "      <td>0</td>\n",
       "    </tr>\n",
       "    <tr>\n",
       "      <th>45018</th>\n",
       "      <td>TransactionId_45927</td>\n",
       "      <td>0</td>\n",
       "    </tr>\n",
       "  </tbody>\n",
       "</table>\n",
       "<p>45019 rows × 2 columns</p>\n",
       "</div>"
      ],
      "text/plain": [
       "              TransactionId  FraudResult\n",
       "0       TransactionId_50600            0\n",
       "1       TransactionId_95109            0\n",
       "2       TransactionId_47357            0\n",
       "3       TransactionId_28185            0\n",
       "4       TransactionId_22140            0\n",
       "...                     ...          ...\n",
       "45014  TransactionId_116198            0\n",
       "45015   TransactionId_24829            0\n",
       "45016  TransactionId_102920            0\n",
       "45017  TransactionId_128439            0\n",
       "45018   TransactionId_45927            0\n",
       "\n",
       "[45019 rows x 2 columns]"
      ]
     },
     "execution_count": 75,
     "metadata": {},
     "output_type": "execute_result"
    }
   ],
   "source": [
    "submission"
   ]
  },
  {
   "cell_type": "code",
   "execution_count": 76,
   "id": "48207df0-9ea5-4363-aaa5-c9c4e3de6cf0",
   "metadata": {},
   "outputs": [
    {
     "data": {
      "text/html": [
       "<div>\n",
       "<style scoped>\n",
       "    .dataframe tbody tr th:only-of-type {\n",
       "        vertical-align: middle;\n",
       "    }\n",
       "\n",
       "    .dataframe tbody tr th {\n",
       "        vertical-align: top;\n",
       "    }\n",
       "\n",
       "    .dataframe thead th {\n",
       "        text-align: right;\n",
       "    }\n",
       "</style>\n",
       "<table border=\"1\" class=\"dataframe\">\n",
       "  <thead>\n",
       "    <tr style=\"text-align: right;\">\n",
       "      <th></th>\n",
       "      <th>TransactionId</th>\n",
       "      <th>FraudResult</th>\n",
       "    </tr>\n",
       "  </thead>\n",
       "  <tbody>\n",
       "    <tr>\n",
       "      <th>23533</th>\n",
       "      <td>TransactionId_70610</td>\n",
       "      <td>0</td>\n",
       "    </tr>\n",
       "    <tr>\n",
       "      <th>24868</th>\n",
       "      <td>TransactionId_112820</td>\n",
       "      <td>0</td>\n",
       "    </tr>\n",
       "    <tr>\n",
       "      <th>24939</th>\n",
       "      <td>TransactionId_123757</td>\n",
       "      <td>0</td>\n",
       "    </tr>\n",
       "    <tr>\n",
       "      <th>39192</th>\n",
       "      <td>TransactionId_84063</td>\n",
       "      <td>0</td>\n",
       "    </tr>\n",
       "  </tbody>\n",
       "</table>\n",
       "</div>"
      ],
      "text/plain": [
       "              TransactionId  FraudResult\n",
       "23533   TransactionId_70610            0\n",
       "24868  TransactionId_112820            0\n",
       "24939  TransactionId_123757            0\n",
       "39192   TransactionId_84063            0"
      ]
     },
     "execution_count": 76,
     "metadata": {},
     "output_type": "execute_result"
    }
   ],
   "source": [
    "submission[submission.TransactionId.isin(id_neg_transac)]"
   ]
  },
  {
   "cell_type": "code",
   "execution_count": 77,
   "id": "6f99743a-7694-4eac-a7b6-89ec8a067b6f",
   "metadata": {},
   "outputs": [],
   "source": [
    "submission.to_csv('Results/submit_V2_all_train_same_ponderation_RF_manuelset.csv', index = False)"
   ]
  },
  {
   "cell_type": "markdown",
   "id": "2e1ed4f8-820c-4021-969f-033a0bd2f52e",
   "metadata": {},
   "source": [
    "### TO DO add more expert example"
   ]
  },
  {
   "cell_type": "code",
   "execution_count": null,
   "id": "a6131d46-497f-418d-8de9-827955c7ea71",
   "metadata": {},
   "outputs": [],
   "source": []
  },
  {
   "cell_type": "code",
   "execution_count": null,
   "id": "6963063d-e509-40a8-afc5-7ae3b61490a5",
   "metadata": {},
   "outputs": [],
   "source": []
  }
 ],
 "metadata": {
  "kernelspec": {
   "display_name": "Python 3 (ipykernel)",
   "language": "python",
   "name": "python3"
  },
  "language_info": {
   "codemirror_mode": {
    "name": "ipython",
    "version": 3
   },
   "file_extension": ".py",
   "mimetype": "text/x-python",
   "name": "python",
   "nbconvert_exporter": "python",
   "pygments_lexer": "ipython3",
   "version": "3.9.12"
  }
 },
 "nbformat": 4,
 "nbformat_minor": 5
}
